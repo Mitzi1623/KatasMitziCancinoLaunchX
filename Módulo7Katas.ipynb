{
 "cells": [
  {
   "cell_type": "markdown",
   "metadata": {},
   "source": [
    "Creación de bucles while y for en Python"
   ]
  },
  {
   "cell_type": "code",
   "execution_count": 1,
   "metadata": {},
   "outputs": [
    {
     "name": "stdout",
     "output_type": "stream",
     "text": [
      "venus\n",
      "Pluto\n",
      "Mars\n",
      "Earth\n",
      "Jupiter\n",
      "Saturn\n",
      "Uranus\n"
     ]
    }
   ],
   "source": [
    "### Ejercicio 1: Creación de un bucle \"while\"\n",
    "\n",
    "# Declaración de variables\n",
    "new_planet = '' \n",
    "planets = []\n",
    "\n",
    "# Entrada de información por el usuario\n",
    "while new_planet.lower() != 'done':\n",
    "    if new_planet:\n",
    "        planets.append(new_planet)\n",
    "    new_planet = input(\"Enter a new planet's name (write 'done' to finish input): \")\n",
    "\n",
    "### Ejericio 2: Creación de bucle \"for\"\n",
    "\n",
    "#Mostrar la lista de planetas\n",
    "for planet in planets:\n",
    "    print(planet)"
   ]
  }
 ],
 "metadata": {
  "interpreter": {
   "hash": "212eb075b993a89734807587203433dea96d9c0e4e8deeb33e652c59eb29cf1a"
  },
  "kernelspec": {
   "display_name": "Python 3.10.2 64-bit",
   "language": "python",
   "name": "python3"
  },
  "language_info": {
   "codemirror_mode": {
    "name": "ipython",
    "version": 3
   },
   "file_extension": ".py",
   "mimetype": "text/x-python",
   "name": "python",
   "nbconvert_exporter": "python",
   "pygments_lexer": "ipython3",
   "version": "3.10.2"
  },
  "orig_nbformat": 4
 },
 "nbformat": 4,
 "nbformat_minor": 2
}
