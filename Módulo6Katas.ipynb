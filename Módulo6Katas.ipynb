{
 "cells": [
  {
   "cell_type": "markdown",
   "metadata": {},
   "source": [
    "Crear y usar listas de Python"
   ]
  },
  {
   "cell_type": "code",
   "execution_count": 1,
   "metadata": {},
   "outputs": [
    {
     "name": "stdout",
     "output_type": "stream",
     "text": [
      "There are 8 planets.\n",
      "There are 9 planets.\n",
      "Pluto is the last planet.\n"
     ]
    }
   ],
   "source": [
    "# Usar listas para almacenar nombre de planetas:\n",
    "planets = ['Mercury', 'Venus', 'Earth', 'Mars', 'Jupiter', 'Saturn','Uranus', 'Neptune']\n",
    "\n",
    "# Mostrar la cantidad de planetas:\n",
    "print('There are ' + str(len(planets)) + ' planets.')\n",
    "\n",
    "# Se agrega a Plutón y se muestra la nueva cantidad de planetas y el último agregado:\n",
    "planets.append('Pluto')\n",
    "print('There are ' + str(len(planets)) + ' planets.\\n' + planets[-1] + ' is the last planet.')"
   ]
  },
  {
   "cell_type": "markdown",
   "metadata": {},
   "source": [
    "Trabajando con datos de una lista"
   ]
  },
  {
   "cell_type": "code",
   "execution_count": 2,
   "metadata": {},
   "outputs": [
    {
     "name": "stdout",
     "output_type": "stream",
     "text": [
      "This/These planet(s) is/are closer to sun than Venus\n",
      "['Mercury']\n",
      "This/These planet(s) is/are further to sun than Venus\n",
      "['Earth', 'Mars', 'Jupiter', 'Saturn', 'Neptune']\n"
     ]
    }
   ],
   "source": [
    "# Lista de planetas\n",
    "planets = ['Mercury', 'Venus', 'Earth', 'Mars', 'Jupiter', 'Saturn', 'Neptune']\n",
    "\n",
    "# Solicitamos el nombre de un planeta al usuario:\n",
    "planet_user = input('Enter a planet name (capitalized at the beginning): ')\n",
    "\n",
    "# Busca el planeta en la lista:\n",
    "planet_index = planets.index(planet_user)\n",
    "\n",
    "# Mostrar los planetas más cercanos al sol:\n",
    "print('This/These planet(s) is/are closer to sun than ' + planet_user)\n",
    "print(planets[0:planet_index])\n",
    "\n",
    "# Mostrar los planetas más cercanos al sol:\n",
    "print('This/These planet(s) is/are further to sun than ' + planet_user)\n",
    "print(planets[planet_index+1:])"
   ]
  }
 ],
 "metadata": {
  "interpreter": {
   "hash": "212eb075b993a89734807587203433dea96d9c0e4e8deeb33e652c59eb29cf1a"
  },
  "kernelspec": {
   "display_name": "Python 3.10.2 64-bit",
   "language": "python",
   "name": "python3"
  },
  "language_info": {
   "codemirror_mode": {
    "name": "ipython",
    "version": 3
   },
   "file_extension": ".py",
   "mimetype": "text/x-python",
   "name": "python",
   "nbconvert_exporter": "python",
   "pygments_lexer": "ipython3",
   "version": "3.10.2"
  },
  "orig_nbformat": 4
 },
 "nbformat": 4,
 "nbformat_minor": 2
}
