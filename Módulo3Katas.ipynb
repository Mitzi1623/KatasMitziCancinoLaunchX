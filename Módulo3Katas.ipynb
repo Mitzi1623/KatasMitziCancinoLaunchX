{
 "cells": [
  {
   "cell_type": "markdown",
   "metadata": {},
   "source": [
    "Aproximación de asteroide"
   ]
  },
  {
   "cell_type": "code",
   "execution_count": 1,
   "metadata": {},
   "outputs": [
    {
     "name": "stdout",
     "output_type": "stream",
     "text": [
      "¡Se aproxima un asteroide!¡Cuidado!\n"
     ]
    }
   ],
   "source": [
    "# Añadir el código necesario para crear una variable que guarde la velocidad del asteroide.\n",
    "# Escribe una expresión de prueba para calcular si necesita una advertencia.\n",
    "# Agregue las instrucciones que se ejecutarán si la expresión de prueba es true o false.\n",
    "\n",
    "velocidad_asteroide = 49\n",
    "if velocidad_asteroide > 25:\n",
    "    print(\"¡Se aproxima un asteroide!¡Cuidado!\")\n",
    "else:\n",
    "    print(\"¡Todo parece despejado! Puedes tomarte un café.\")\n",
    "    "
   ]
  },
  {
   "cell_type": "markdown",
   "metadata": {},
   "source": [
    "Haz de luz"
   ]
  },
  {
   "cell_type": "code",
   "execution_count": 4,
   "metadata": {},
   "outputs": [
    {
     "name": "stdout",
     "output_type": "stream",
     "text": [
      "¡Vean al cielo!¡Hay un haz de luz!\n"
     ]
    }
   ],
   "source": [
    "# Agrega el código para crear una variable para un asteroide que viaja a 19 km/s\n",
    "# Escribe varias expresiones de prueba para determinar si puedes ver el rayo de luz desde la tierra\n",
    "# Agrega las instrucciones que se ejecutarán si las expresiones de prueba son True o False\n",
    "\n",
    "velocidad_asteroide = 30\n",
    "if velocidad_asteroide > 20:\n",
    "    print(\"¡Vean al cielo!¡Hay un haz de luz!\")\n",
    "elif velocidad_asteroide == 20:\n",
    "    print(\"¡Vean al cielo!¡Hay un haz de luz!\")\n",
    "else:\n",
    "    print(\"Sigue tu vida con normalidad.\")"
   ]
  },
  {
   "cell_type": "markdown",
   "metadata": {},
   "source": [
    "Asteroides"
   ]
  },
  {
   "cell_type": "code",
   "execution_count": 6,
   "metadata": {},
   "outputs": [
    {
     "name": "stdout",
     "output_type": "stream",
     "text": [
      "¡Peligro!¡Se aproxima un asteroide a la tierra!\n"
     ]
    }
   ],
   "source": [
    "# Agrega el código para crear nuevas variables para la velocidad y el tamaño del asteroide\n",
    "# Para probar el código, prueba con varias velocidades y tamaños\n",
    "# Escribe varias expresiones de prueba o combinaciones de expresiones de prueba para determinar qué mensaje se debe enviar a Tierra.\n",
    "\n",
    "velocidad_asteroide = 220\n",
    "tamano_asteroide = 30\n",
    "\n",
    "if tamano_asteroide > 25 and velocidad_asteroide > 25:\n",
    "    print(\"¡Peligro!¡Se aproxima un asteroide a la tierra!\")\n",
    "elif velocidad_asteroide >= 20 and tamano_asteroide <= 25:\n",
    "    print(\"¡Vean al cielo!¡Hay un haz de luz!\")\n",
    "elif tamano_asteroide >= 25:\n",
    "    print(\"No te relajes tanto que viene un asteroide grande\")\n",
    "else:\n",
    "    print(\"Sigue tu vida con normalidad.\")"
   ]
  }
 ],
 "metadata": {
  "interpreter": {
   "hash": "212eb075b993a89734807587203433dea96d9c0e4e8deeb33e652c59eb29cf1a"
  },
  "kernelspec": {
   "display_name": "Python 3.10.2 64-bit",
   "language": "python",
   "name": "python3"
  },
  "language_info": {
   "codemirror_mode": {
    "name": "ipython",
    "version": 3
   },
   "file_extension": ".py",
   "mimetype": "text/x-python",
   "name": "python",
   "nbconvert_exporter": "python",
   "pygments_lexer": "ipython3",
   "version": "3.10.2"
  },
  "orig_nbformat": 4
 },
 "nbformat": 4,
 "nbformat_minor": 2
}
